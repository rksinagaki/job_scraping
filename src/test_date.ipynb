{
 "cells": [
  {
   "cell_type": "code",
   "execution_count": 20,
   "id": "6ce1f8c3",
   "metadata": {},
   "outputs": [],
   "source": [
    "import pandas as pd\n",
    "import ast"
   ]
  },
  {
   "cell_type": "code",
   "execution_count": 21,
   "id": "a457def4",
   "metadata": {},
   "outputs": [
    {
     "data": {
      "text/html": [
       "<div>\n",
       "<style scoped>\n",
       "    .dataframe tbody tr th:only-of-type {\n",
       "        vertical-align: middle;\n",
       "    }\n",
       "\n",
       "    .dataframe tbody tr th {\n",
       "        vertical-align: top;\n",
       "    }\n",
       "\n",
       "    .dataframe thead th {\n",
       "        text-align: right;\n",
       "    }\n",
       "</style>\n",
       "<table border=\"1\" class=\"dataframe\">\n",
       "  <thead>\n",
       "    <tr style=\"text-align: right;\">\n",
       "      <th></th>\n",
       "      <th>job_offer_id</th>\n",
       "      <th>job_offer_name</th>\n",
       "      <th>job_offer_areas</th>\n",
       "      <th>job_offer_min_salary</th>\n",
       "      <th>job_offer_max_salary</th>\n",
       "      <th>job_offer_skill_names</th>\n",
       "      <th>client_name</th>\n",
       "      <th>employee_count</th>\n",
       "    </tr>\n",
       "  </thead>\n",
       "  <tbody>\n",
       "    <tr>\n",
       "      <th>0</th>\n",
       "      <td>294448</td>\n",
       "      <td>AIソフトウェアエンジニア</td>\n",
       "      <td>['東京都']</td>\n",
       "      <td>500</td>\n",
       "      <td>1500</td>\n",
       "      <td>['Java', 'Python', 'Go', 'Node.js', 'TypeScrip...</td>\n",
       "      <td>ブーストコンサルティング 株式会社</td>\n",
       "      <td>20</td>\n",
       "    </tr>\n",
       "    <tr>\n",
       "      <th>1</th>\n",
       "      <td>294439</td>\n",
       "      <td>シニアデータサイエンティスト</td>\n",
       "      <td>['東京都']</td>\n",
       "      <td>1000</td>\n",
       "      <td>0</td>\n",
       "      <td>['SQL', 'R', 'pandas']</td>\n",
       "      <td>OLTA 株式会社</td>\n",
       "      <td>118</td>\n",
       "    </tr>\n",
       "    <tr>\n",
       "      <th>2</th>\n",
       "      <td>294052</td>\n",
       "      <td>最先端AI技術を習得！未来を創る生成AIエンジニアを募集！</td>\n",
       "      <td>['東京都', '神奈川県', '千葉県', '埼玉県', '大阪府', '兵庫県', '京...</td>\n",
       "      <td>500</td>\n",
       "      <td>1040</td>\n",
       "      <td>['Java', 'Python']</td>\n",
       "      <td>10X 株式会社</td>\n",
       "      <td>20</td>\n",
       "    </tr>\n",
       "    <tr>\n",
       "      <th>3</th>\n",
       "      <td>293842</td>\n",
       "      <td>AI/NLPエンジニア（ナレッジグラフ＆セマンティックシステム）技術リーダー</td>\n",
       "      <td>['東京都']</td>\n",
       "      <td>1500</td>\n",
       "      <td>2200</td>\n",
       "      <td>[]</td>\n",
       "      <td>Polimill 株式会社</td>\n",
       "      <td>20</td>\n",
       "    </tr>\n",
       "    <tr>\n",
       "      <th>4</th>\n",
       "      <td>294323</td>\n",
       "      <td>ソフトウェアエンジニア（AI）</td>\n",
       "      <td>['フルリモート']</td>\n",
       "      <td>600</td>\n",
       "      <td>1600</td>\n",
       "      <td>['Ruby', 'Ruby on Rails']</td>\n",
       "      <td>株式会社 kickflow</td>\n",
       "      <td>34</td>\n",
       "    </tr>\n",
       "  </tbody>\n",
       "</table>\n",
       "</div>"
      ],
      "text/plain": [
       "   job_offer_id                          job_offer_name  \\\n",
       "0        294448                           AIソフトウェアエンジニア   \n",
       "1        294439                          シニアデータサイエンティスト   \n",
       "2        294052           最先端AI技術を習得！未来を創る生成AIエンジニアを募集！   \n",
       "3        293842  AI/NLPエンジニア（ナレッジグラフ＆セマンティックシステム）技術リーダー   \n",
       "4        294323                         ソフトウェアエンジニア（AI）   \n",
       "\n",
       "                                     job_offer_areas  job_offer_min_salary  \\\n",
       "0                                            ['東京都']                   500   \n",
       "1                                            ['東京都']                  1000   \n",
       "2  ['東京都', '神奈川県', '千葉県', '埼玉県', '大阪府', '兵庫県', '京...                   500   \n",
       "3                                            ['東京都']                  1500   \n",
       "4                                         ['フルリモート']                   600   \n",
       "\n",
       "   job_offer_max_salary                              job_offer_skill_names  \\\n",
       "0                  1500  ['Java', 'Python', 'Go', 'Node.js', 'TypeScrip...   \n",
       "1                     0                             ['SQL', 'R', 'pandas']   \n",
       "2                  1040                                 ['Java', 'Python']   \n",
       "3                  2200                                                 []   \n",
       "4                  1600                          ['Ruby', 'Ruby on Rails']   \n",
       "\n",
       "         client_name  employee_count  \n",
       "0  ブーストコンサルティング 株式会社              20  \n",
       "1          OLTA 株式会社             118  \n",
       "2           10X 株式会社              20  \n",
       "3      Polimill 株式会社              20  \n",
       "4      株式会社 kickflow              34  "
      ]
     },
     "execution_count": 21,
     "metadata": {},
     "output_type": "execute_result"
    }
   ],
   "source": [
    "df = pd.read_csv('../filtered.csv')\n",
    "df.head()"
   ]
  },
  {
   "cell_type": "code",
   "execution_count": 22,
   "id": "cd96ab92",
   "metadata": {},
   "outputs": [
    {
     "data": {
      "text/plain": [
       "str"
      ]
     },
     "execution_count": 22,
     "metadata": {},
     "output_type": "execute_result"
    }
   ],
   "source": [
    "val = df.loc[0,['job_offer_areas']]\n",
    "type(df.loc[1, \"job_offer_skill_names\"])"
   ]
  },
  {
   "cell_type": "code",
   "execution_count": 23,
   "id": "ff2462eb",
   "metadata": {},
   "outputs": [
    {
     "data": {
      "text/plain": [
       "str"
      ]
     },
     "execution_count": 23,
     "metadata": {},
     "output_type": "execute_result"
    }
   ],
   "source": [
    "df['job_offer_areas'] = df['job_offer_areas'].apply(ast.literal_eval)\n",
    "type(df.loc[2, \"job_offer_skill_names\"])"
   ]
  }
 ],
 "metadata": {
  "kernelspec": {
   "display_name": ".venv",
   "language": "python",
   "name": "python3"
  },
  "language_info": {
   "codemirror_mode": {
    "name": "ipython",
    "version": 3
   },
   "file_extension": ".py",
   "mimetype": "text/x-python",
   "name": "python",
   "nbconvert_exporter": "python",
   "pygments_lexer": "ipython3",
   "version": "3.12.3"
  }
 },
 "nbformat": 4,
 "nbformat_minor": 5
}
